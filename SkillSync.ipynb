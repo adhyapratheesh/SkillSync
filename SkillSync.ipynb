{
  "nbformat": 4,
  "nbformat_minor": 0,
  "metadata": {
    "colab": {
      "provenance": [],
      "gpuType": "T4",
      "authorship_tag": "ABX9TyMWizhMa66btNBarXpQThPR",
      "include_colab_link": true
    },
    "kernelspec": {
      "name": "python3",
      "display_name": "Python 3"
    },
    "language_info": {
      "name": "python"
    },
    "accelerator": "GPU"
  },
  "cells": [
    {
      "cell_type": "markdown",
      "metadata": {
        "id": "view-in-github",
        "colab_type": "text"
      },
      "source": [
        "<a href=\"https://colab.research.google.com/github/adhyapratheesh/SkillSync/blob/main/SkillSync.ipynb\" target=\"_parent\"><img src=\"https://colab.research.google.com/assets/colab-badge.svg\" alt=\"Open In Colab\"/></a>"
      ]
    },
    {
      "cell_type": "code",
      "source": [
        "import pandas as pd\n",
        "import numpy as np\n",
        "from sklearn.metrics.pairwise import cosine_similarity\n",
        "from sklearn.preprocessing import MultiLabelBinarizer\n",
        "from sklearn.model_selection import train_test_split\n",
        "from sklearn.ensemble import RandomForestClassifier\n",
        "from sklearn.multioutput import MultiOutputClassifier\n",
        "from sklearn.metrics import classification_report\n",
        "from sklearn.metrics import accuracy_score"
      ],
      "metadata": {
        "id": "FnrVa0HXzkv2"
      },
      "execution_count": 2,
      "outputs": []
    },
    {
      "cell_type": "code",
      "source": [
        "# Load datasets\n",
        "employee_df = pd.read_csv(\"/content/employee_dataset (1).csv\", converters={\"skills\": eval, \"proficiency_levels\": eval})\n",
        "project_df = pd.read_csv(\"/content/project_dataset (1).csv\", converters={\"skills_required\": eval})"
      ],
      "metadata": {
        "id": "tDSiZ372zoSl"
      },
      "execution_count": 3,
      "outputs": []
    },
    {
      "cell_type": "code",
      "source": [
        "# Preprocess employee data\n",
        "mlb = MultiLabelBinarizer()\n",
        "skills_encoded = mlb.fit_transform(employee_df[\"skills\"])\n",
        "\n",
        "# Create a proficiency matrix\n",
        "proficiency_matrix = []\n",
        "for _, row in employee_df.iterrows():\n",
        "    proficiency = [row[\"proficiency_levels\"].get(skill, 0) for skill in mlb.classes_]\n",
        "    proficiency_matrix.append(proficiency)\n",
        "proficiency_matrix = np.array(proficiency_matrix)\n",
        "# Weighted skill matrix (combining presence and proficiency)\n",
        "weighted_skills_matrix = skills_encoded * proficiency_matrix"
      ],
      "metadata": {
        "id": "oDVb2y8Ezvet"
      },
      "execution_count": 4,
      "outputs": []
    },
    {
      "cell_type": "code",
      "source": [
        "# Prepare training data\n",
        "def prepare_training_data():\n",
        "    X = []\n",
        "    y = []\n",
        "\n",
        "    for _, project in project_df.iterrows():\n",
        "        project_skills = project[\"skills_required\"]\n",
        "        project_skills_vector = np.array([1 if skill in project_skills else 0 for skill in mlb.classes_])\n",
        "\n",
        "        # Calculate similarity scores\n",
        "        similarity_scores = cosine_similarity([project_skills_vector], weighted_skills_matrix)[0]\n",
        "        employee_df[\"similarity_score\"] = similarity_scores\n",
        "\n",
        "        # Sort employees and select top team_size\n",
        "        top_employees = employee_df.sort_values(by=\"similarity_score\", ascending=False).head(project[\"team_size\"])\n",
        "        team_labels = [1 if i in top_employees.index else 0 for i in range(len(employee_df))]\n",
        "\n",
        "        X.append(np.concatenate((project_skills_vector, [project[\"team_size\"]])))\n",
        "        y.append(team_labels)\n",
        "\n",
        "    return np.array(X), np.array(y)"
      ],
      "metadata": {
        "id": "3oyZapcdz63Y"
      },
      "execution_count": 5,
      "outputs": []
    },
    {
      "cell_type": "code",
      "source": [
        "# Prepare data\n",
        "X, y = prepare_training_data()\n",
        "# Split data into training and testing sets\n",
        "X_train, X_test, y_train, y_test = train_test_split(X, y, test_size=0.2, random_state=42)\n",
        "# Train a multi-output classifier\n",
        "model = MultiOutputClassifier(RandomForestClassifier(random_state=42))\n",
        "model.fit(X_train, y_train)\n",
        "# Evaluate the model\n",
        "y_pred = model.predict(X_test)"
      ],
      "metadata": {
        "id": "9zWbEiVI0Raq"
      },
      "execution_count": 6,
      "outputs": []
    },
    {
      "cell_type": "code",
      "source": [
        "# Predict team for a new project\n",
        "def predict_team(project_skills, team_size):\n",
        "    project_skills_vector = np.array([1 if skill in project_skills else 0 for skill in mlb.classes_])\n",
        "    input_vector = np.concatenate((project_skills_vector, [team_size]))\n",
        "    predictions = model.predict([input_vector])[0]\n",
        "\n",
        "    # Select employees based on predictions\n",
        "    employee_df[\"predicted\"] = predictions\n",
        "    recommended_employees = employee_df.sort_values(by=\"similarity_score\", ascending=False)\n",
        "\n",
        "    # Ensure at least 'team_size' members are returned\n",
        "    recommended_team = recommended_employees.head(team_size)\n",
        "    if len(recommended_team) < team_size:\n",
        "        print(f\"Warning: Only {len(recommended_team)} suitable team members found.\")\n",
        "\n",
        "    # Assign team leader as the top-ranked employee\n",
        "    team_leader = recommended_team.iloc[0] if not recommended_team.empty else None\n",
        "\n",
        "    return recommended_team, team_leader"
      ],
      "metadata": {
        "id": "UG5b8jd9plNx"
      },
      "execution_count": 7,
      "outputs": []
    },
    {
      "cell_type": "code",
      "source": [
        "# Take user input for project details\n",
        "project_id = int(input(\"Enter Project ID: \"))\n",
        "project_name = input(\"Enter Project Name: \")\n",
        "required_skills = input(\"Enter Required Skills (comma-separated): \").split(\",\")\n",
        "required_skills = [skill.strip() for skill in required_skills]  # Clean whitespace\n",
        "team_size = int(input(\"Enter Team Size: \"))\n",
        "# Recommend team based on input\n",
        "team, leader = predict_team(required_skills, team_size)\n",
        "\n",
        "# Display results\n",
        "print(\"Project Name:\", project_name)\n",
        "print(\"Required Skills:\", required_skills)\n",
        "print(\"Recommended Team:\")\n",
        "print(team[[\"employee_id\", \"employee_name\", \"similarity_score\"]].to_string(index=False))\n",
        "print(\"\\nTeam Leader:\")\n",
        "print(leader[[\"employee_id\", \"employee_name\", \"similarity_score\"]].to_string(index=False))"
      ],
      "metadata": {
        "colab": {
          "base_uri": "https://localhost:8080/"
        },
        "id": "Bnfx3q3L0a6G",
        "outputId": "2ba8180e-a181-405c-9ca0-b9e2e1974c04"
      },
      "execution_count": 11,
      "outputs": [
        {
          "output_type": "stream",
          "name": "stdout",
          "text": [
            "Enter Project ID: 23\n",
            "Enter Project Name: skillsync\n",
            "Enter Required Skills (comma-separated): python,java\n",
            "Enter Team Size: 4\n",
            "Project Name: skillsync\n",
            "Required Skills: ['python', 'java']\n",
            "Recommended Team:\n",
            " employee_id employee_name  similarity_score\n",
            "         664   Sam Johnson          1.000000\n",
            "         274   Jamie Jones          0.816497\n",
            "          69     Sam Davis          0.811503\n",
            "         715   Casey Brown          0.792594\n",
            "\n",
            "Team Leader:\n",
            "        664\n",
            "Sam Johnson\n",
            "        1.0\n"
          ]
        }
      ]
    }
  ]
}